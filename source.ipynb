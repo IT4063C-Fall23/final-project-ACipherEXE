{
 "cells": [
  {
   "attachments": {},
   "cell_type": "markdown",
   "metadata": {},
   "source": [
    "# {Project Title}📝\n",
    "\n",
    "![Banner](./assets/banner.jpeg)"
   ]
  },
  {
   "attachments": {},
   "cell_type": "markdown",
   "metadata": {},
   "source": [
    "## Topic\n",
    "*What problem are you (or your stakeholder) trying to address?*\n",
    "📝 <!-- Answer Below -->\n",
    "\n",
    "That there are cars that are recalled being sold. This could be a danger for others on the road and future owners. This could lead on to unessary deaths or hospializacions. So I want the DMV to warn before the purchase of a used car or annoy the new owner to fix the car."
   ]
  },
  {
   "attachments": {},
   "cell_type": "markdown",
   "metadata": {},
   "source": [
    "## Project Question\n",
    "*What specific question are you seeking to answer with this project?*\n",
    "*This is not the same as the questions you ask to limit the scope of the project.*\n",
    "📝 <!-- Answer Below -->\n",
    "\n",
    "How many cars are currently sold with defects? "
   ]
  },
  {
   "attachments": {},
   "cell_type": "markdown",
   "metadata": {},
   "source": [
    "## What would an answer look like?\n",
    "*What is your hypothesized answer to your question?*\n",
    "📝 <!-- Answer Below -->\n",
    "\n",
    "I belive a large amount of defect cars are being sold without the new owner knowing. "
   ]
  },
  {
   "attachments": {},
   "cell_type": "markdown",
   "metadata": {},
   "source": [
    "## Data Sources\n",
    "*What 3 data sources have you identified for this project?*\n",
    "*How are you going to relate these datasets?*\n",
    "📝 <!-- Answer Below -->"
   ]
  },
  {
   "cell_type": "markdown",
   "metadata": {},
   "source": [
    "I will use the NHTSA dataset for defects for a list of what is going on.\n",
    "\n",
    "Link:https://www.nhtsa.gov/nhtsa-datasets-and-apis\n",
    "\n",
    "I will used a automated dataset in kaggle that takes cars being sold in Craigslist because that is normally where owners sell their cars\n",
    "\n",
    "Link: https://www.kaggle.com/datasets/austinreese/craigslist-carstrucks-data\n",
    "\n",
    "\n",
    "Plus figure out how many could have been hurt by these defects with the NHTSA\n",
    "\n",
    "Link:https://www.nhtsa.gov/nhtsa-datasets-and-apis\n"
   ]
  },
  {
   "cell_type": "code",
   "execution_count": null,
   "metadata": {},
   "outputs": [],
   "source": []
  },
  {
   "attachments": {},
   "cell_type": "markdown",
   "metadata": {},
   "source": [
    "## Approach and Analysis\n",
    "*What is your approach to answering your project question?*\n",
    "*How will you use the identified data to answer your project question?*\n",
    "📝 <!-- Start Discussing the project here; you can add as many code cells as you need -->\n",
    "\n",
    "First I want to concentrate of how many one popular brand and model of a certain year from each region US, Asian and Euro manufactures. Then look at each of their popular models and look for a list of defects that has been reported by the NHTSA. Then check how many are being on sale currently per state with the kaggle dataset. Then see how many reports of a model has been made by the last 5 years."
   ]
  },
  {
   "cell_type": "code",
   "execution_count": 2,
   "metadata": {},
   "outputs": [
    {
     "name": "stdout",
     "output_type": "stream",
     "text": [
      "{\"message\":\"You are not subscribed to this API.\"}\n"
     ]
    }
   ],
   "source": [
    "# Start your code here))"
   ]
  },
  {
   "attachments": {},
   "cell_type": "markdown",
   "metadata": {},
   "source": [
    "## Resources and References\n",
    "*What resources and references have you used for this project?*\n",
    "📝 <!-- Answer Below -->"
   ]
  },
  {
   "cell_type": "code",
   "execution_count": 2,
   "metadata": {},
   "outputs": [
    {
     "name": "stdout",
     "output_type": "stream",
     "text": [
      "[NbConvertApp] Converting notebook source.ipynb to python\n",
      "[NbConvertApp] Writing 1271 bytes to source.py\n"
     ]
    }
   ],
   "source": [
    "# ⚠️ Make sure you run this cell at the end of your notebook before every submission!\n",
    "!jupyter nbconvert --to python source.ipynb"
   ]
  }
 ],
 "metadata": {
  "kernelspec": {
   "display_name": "Final-Project-Template-unx06iZ2",
   "language": "python",
   "name": "python3"
  },
  "language_info": {
   "codemirror_mode": {
    "name": "ipython",
    "version": 3
   },
   "file_extension": ".py",
   "mimetype": "text/x-python",
   "name": "python",
   "nbconvert_exporter": "python",
   "pygments_lexer": "ipython3",
   "version": "3.11.5"
  },
  "orig_nbformat": 4,
  "vscode": {
   "interpreter": {
    "hash": "8f59090b806211711d8ea6da25ee5b1ccb272a75a21b9536283520350d8dfda7"
   }
  }
 },
 "nbformat": 4,
 "nbformat_minor": 2
}
